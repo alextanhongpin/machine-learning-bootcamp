{
 "cells": [
  {
   "cell_type": "markdown",
   "id": "ultimate-buying",
   "metadata": {},
   "source": [
    "# Setting up Tensorflow Lite"
   ]
  },
  {
   "cell_type": "code",
   "execution_count": null,
   "id": "egyptian-oriental",
   "metadata": {},
   "outputs": [],
   "source": [
    "!pip install --extra-index-url https://google-coral.github.io/py-repo/ tflite_runtime"
   ]
  },
  {
   "cell_type": "markdown",
   "id": "received-canberra",
   "metadata": {},
   "source": [
    "## Converting the model to TF Lite format"
   ]
  },
  {
   "cell_type": "code",
   "execution_count": null,
   "id": "announced-heater",
   "metadata": {},
   "outputs": [],
   "source": [
    "# The redirect L is required when downloading from github releases.\n",
    "# https://stackoverflow.com/questions/46060010/download-github-release-with-curl\n",
    "!curl -OL https://github.com/alexeygrigorev/mlbookcamp-code/releases/download/chapter7-model/xception_v4_large_08_0.894.h5"
   ]
  },
  {
   "cell_type": "code",
   "execution_count": null,
   "id": "later-canada",
   "metadata": {},
   "outputs": [],
   "source": [
    "import tensorflow as tf\n",
    "from tensorflow import keras"
   ]
  },
  {
   "cell_type": "code",
   "execution_count": null,
   "id": "right-custom",
   "metadata": {},
   "outputs": [],
   "source": [
    "model = keras.models.load_model(\"xception_v4_large_08_0.894.h5\")\n",
    "\n",
    "converter = tf.lite.TFLiteConverter.from_keras_model(model)\n",
    "tflite_model = converter.convert()\n",
    "\n",
    "with tf.io.gfile.GFile(\"clothing-model-v4.tflite\", \"wb\") as f:\n",
    "    f.write(tflite_model)"
   ]
  },
  {
   "cell_type": "markdown",
   "id": "fiscal-enemy",
   "metadata": {},
   "source": [
    "#### Preprocessing the images\n",
    "\n",
    "We cannot use the `preprocess_input` for tensorflow lite:\n",
    "```\n",
    "from tensorflow.keras.applications.xception import preprocess_input\n",
    "```\n"
   ]
  },
  {
   "cell_type": "code",
   "execution_count": null,
   "id": "unlimited-wrong",
   "metadata": {},
   "outputs": [],
   "source": [
    "!pip install keras_image_helper"
   ]
  },
  {
   "cell_type": "code",
   "execution_count": 1,
   "id": "stuffed-category",
   "metadata": {},
   "outputs": [],
   "source": [
    "from keras_image_helper import create_preprocessor"
   ]
  },
  {
   "cell_type": "code",
   "execution_count": 2,
   "id": "immune-action",
   "metadata": {},
   "outputs": [],
   "source": [
    "preprocessor = create_preprocessor(\"xception\", target_size=(299, 299))\n",
    "\n",
    "image_url = \"http://bit.ly/mlbookcamp-pants\"\n",
    "\n",
    "# The result is a numpy array of shape (1, 299, 299, 3)\n",
    "# Batch of one image\n",
    "# 299 x 299 is the size of the image\n",
    "# The image has 3 channels, red, green and blue.\n",
    "X = preprocessor.from_url(image_url)"
   ]
  },
  {
   "cell_type": "markdown",
   "id": "restricted-activity",
   "metadata": {},
   "source": [
    "#### Using the tensorflow lite model"
   ]
  },
  {
   "cell_type": "code",
   "execution_count": 3,
   "id": "premium-affiliate",
   "metadata": {},
   "outputs": [],
   "source": [
    "import tflite_runtime.interpreter as tflite\n",
    "\n",
    "# Load the model.\n",
    "interpreter = tflite.Interpreter(model_path=\"clothing-model-v4.tflite\")\n",
    "interpreter.allocate_tensors()"
   ]
  },
  {
   "cell_type": "markdown",
   "id": "reduced-renewal",
   "metadata": {},
   "source": [
    "If you hit error \n",
    "```\n",
    "generic_type: type \"InterpreterWrapper\" is already registered!\n",
    "```\n",
    "\n",
    "It means you are running the script that loads tensorflow, which should not be run along when running tensorflow lite\n",
    "\n",
    "```\n",
    "import tensorflow as tf\n",
    "from tensorflow import keras\n",
    "```"
   ]
  },
  {
   "cell_type": "code",
   "execution_count": 5,
   "id": "convinced-conclusion",
   "metadata": {},
   "outputs": [],
   "source": [
    "input_details = interpreter.get_input_details()\n",
    "input_index = input_details[0][\"index\"]\n",
    "\n",
    "output_details = interpreter.get_output_details()\n",
    "output_index = output_details[0][\"index\"]"
   ]
  },
  {
   "cell_type": "code",
   "execution_count": 13,
   "id": "angry-albany",
   "metadata": {},
   "outputs": [],
   "source": [
    "def predict(X):\n",
    "    interpreter.set_tensor(input_index, X)\n",
    "    interpreter.invoke()\n",
    "    preds = interpreter.get_tensor(output_index)\n",
    "    return preds[0]"
   ]
  },
  {
   "cell_type": "code",
   "execution_count": 16,
   "id": "hispanic-chile",
   "metadata": {},
   "outputs": [],
   "source": [
    "labels = [\n",
    "    \"dress\",\n",
    "    \"hat\",\n",
    "    \"longsleeve\",\n",
    "    \"outwear\",\n",
    "    \"pants\",\n",
    "    \"shirt\",\n",
    "    \"shoes\",\n",
    "    \"shorts\",\n",
    "    \"skirt\",\n",
    "    \"t-shirt\",\n",
    "]\n",
    "\n",
    "def decode_predictions(pred):\n",
    "    result = dict(zip(labels, pred))\n",
    "    return result"
   ]
  },
  {
   "cell_type": "code",
   "execution_count": 17,
   "id": "animated-translator",
   "metadata": {},
   "outputs": [
    {
     "data": {
      "text/plain": [
       "{'dress': -1.8682901,\n",
       " 'hat': -4.7612457,\n",
       " 'longsleeve': -2.3169823,\n",
       " 'outwear': -1.0625706,\n",
       " 'pants': 9.8871565,\n",
       " 'shirt': -2.8124304,\n",
       " 'shoes': -3.6662836,\n",
       " 'shorts': 3.200361,\n",
       " 'skirt': -2.6023388,\n",
       " 't-shirt': -4.835045}"
      ]
     },
     "execution_count": 17,
     "metadata": {},
     "output_type": "execute_result"
    }
   ],
   "source": [
    "decode_predictions(predict(X))"
   ]
  },
  {
   "cell_type": "code",
   "execution_count": null,
   "id": "fewer-steps",
   "metadata": {},
   "outputs": [],
   "source": []
  }
 ],
 "metadata": {
  "kernelspec": {
   "display_name": "Python 3",
   "language": "python",
   "name": "python3"
  },
  "language_info": {
   "codemirror_mode": {
    "name": "ipython",
    "version": 3
   },
   "file_extension": ".py",
   "mimetype": "text/x-python",
   "name": "python",
   "nbconvert_exporter": "python",
   "pygments_lexer": "ipython3",
   "version": "3.9.10"
  }
 },
 "nbformat": 4,
 "nbformat_minor": 5
}
